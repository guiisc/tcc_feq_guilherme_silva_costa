{
 "cells": [
  {
   "cell_type": "code",
   "execution_count": 1,
   "id": "78734da9-eb52-4e02-9903-3540d0bd4465",
   "metadata": {},
   "outputs": [],
   "source": [
    "%load_ext autoreload\n",
    "%autoreload 2\n",
    "\n",
    "import main as m\n",
    "import pandas as pd\n",
    "import numpy as np\n",
    "import matplotlib.pyplot as plt\n",
    "R = 8.314 # J/K. mol"
   ]
  },
  {
   "cell_type": "code",
   "execution_count": 505,
   "id": "441b0aef-dc9a-4aed-913b-6fc4c7513f95",
   "metadata": {},
   "outputs": [],
   "source": [
    "n = 1000\n",
    "Ca = m.generate_values(1, 10, n)\n",
    "Cb = m.generate_values(1, 10, n)\n",
    "Cc = m.generate_values(0, .1, n)\n",
    "Cd = m.generate_values(0, .1, n)\n",
    "T = m.generate_values(50+273, 200+273, n)\n",
    "Q = m.generate_values(.1, .15, n)\n",
    "\n",
    "data = pd.DataFrame()\n",
    "data['Cae'] = Ca\n",
    "data['Cbe'] = Cb\n",
    "data['Cce'] = Cc\n",
    "data['Cde'] = Cd\n",
    "data['T'] = T\n",
    "data['Q'] = Q\n",
    "C = ['Cae', 'Cbe', 'Cce', 'Cde']"
   ]
  },
  {
   "cell_type": "code",
   "execution_count": 548,
   "id": "0973deed-8b79-4009-bcc9-179c02ae6150",
   "metadata": {},
   "outputs": [],
   "source": [
    "Ea1 = 53e3 # J/mol\n",
    "k01 = 5e3 # L/mol.s\n",
    "Ea2 = Ea1/1.3 # J/mol\n",
    "k02 = 5e1 # L/mol.s\n",
    "V = 500 # L\n",
    "# C: mol/L\n",
    "# Q: L/s\n",
    "\n",
    "\n",
    "data['Ea1'] = Ea1\n",
    "data['k01'] = k01\n",
    "data['Ea2'] = Ea2\n",
    "data['k02'] = k02\n",
    "data['V'] = V"
   ]
  },
  {
   "cell_type": "markdown",
   "id": "20045cab-e2b9-4d9d-b83b-038a93b0b01d",
   "metadata": {
    "tags": []
   },
   "source": [
    "## Ordinary Diferential Equation"
   ]
  },
  {
   "cell_type": "code",
   "execution_count": null,
   "id": "d85a0b9b-2515-4c91-953c-8e6e60c8cbc1",
   "metadata": {},
   "outputs": [
    {
     "data": {
      "image/png": "[encoded data removed]",
      "text/plain": [
       "<Figure size 792x432 with 2 Axes>"
      ]
     },
     "metadata": {
      "needs_background": "light"
     },
     "output_type": "display_data"
    }
   ],
   "source": [
    "ode_solved = m.ode_solve(data, n=10*n, t=15000, row=1)\n",
    "m.ode_plot(ode_solved)"
   ]
  },
  {
   "cell_type": "code",
   "execution_count": 593,
   "id": "d9dd6999-6a4d-4d89-bef0-70c6dc9c47a2",
   "metadata": {},
   "outputs": [
    {
     "data": {
      "text/html": [
       "<div>\n",
       "<style scoped>\n",
       "    .dataframe tbody tr th:only-of-type {\n",
       "        vertical-align: middle;\n",
       "    }\n",
       "\n",
       "    .dataframe tbody tr th {\n",
       "        vertical-align: top;\n",
       "    }\n",
       "\n",
       "    .dataframe thead th {\n",
       "        text-align: right;\n",
       "    }\n",
       "</style>\n",
       "<table border=\"1\" class=\"dataframe\">\n",
       "  <thead>\n",
       "    <tr style=\"text-align: right;\">\n",
       "      <th></th>\n",
       "      <th>Cae</th>\n",
       "      <th>Cbe</th>\n",
       "      <th>Cce</th>\n",
       "      <th>Cde</th>\n",
       "      <th>T</th>\n",
       "      <th>Q</th>\n",
       "      <th>Ea1</th>\n",
       "      <th>k01</th>\n",
       "      <th>Ea2</th>\n",
       "      <th>k02</th>\n",
       "      <th>V</th>\n",
       "    </tr>\n",
       "  </thead>\n",
       "  <tbody>\n",
       "    <tr>\n",
       "      <th>1</th>\n",
       "      <td>3.960112</td>\n",
       "      <td>3.985584</td>\n",
       "      <td>0.000706</td>\n",
       "      <td>0.000647</td>\n",
       "      <td>328.379442</td>\n",
       "      <td>0.122607</td>\n",
       "      <td>53000.0</td>\n",
       "      <td>5000.0</td>\n",
       "      <td>40769.230769</td>\n",
       "      <td>50.0</td>\n",
       "      <td>500</td>\n",
       "    </tr>\n",
       "  </tbody>\n",
       "</table>\n",
       "</div>"
      ],
      "text/plain": [
       "        Cae       Cbe       Cce       Cde           T         Q      Ea1  \\\n",
       "1  3.960112  3.985584  0.000706  0.000647  328.379442  0.122607  53000.0   \n",
       "\n",
       "      k01           Ea2   k02    V  \n",
       "1  5000.0  40769.230769  50.0  500  "
      ]
     },
     "execution_count": 593,
     "metadata": {},
     "output_type": "execute_result"
    }
   ],
   "source": [
    "ro = 1\n",
    "data.loc[[ro]]"
   ]
  },
  {
   "cell_type": "code",
   "execution_count": 594,
   "id": "b7fadda6-a288-44da-bf1f-4ab810645a1f",
   "metadata": {},
   "outputs": [
    {
     "name": "stdout",
     "output_type": "stream",
     "text": [
      "k1: 0.02 .10^-3\n",
      "k2: 0.02 .10^-3\n",
      "X: 0.19\n"
     ]
    }
   ],
   "source": [
    "print(f\"k1: {m.cte_taxa(data.loc[ro, 'T'], data.loc[ro, 'k01'], data.loc[ro, 'Ea1'])*1e3:.2f} .10^-3\")\n",
    "print(f\"k2: {m.cte_taxa(data.loc[ro, 'T'], data.loc[ro, 'k02'], data.loc[ro, 'Ea2'])*1e3:.2f} .10^-3\")\n",
    "print(f\"X: {m.X( ode_solved['Ca'].values[0], ode_solved['Ca'].values[-1] ):.2f}\")"
   ]
  },
  {
   "cell_type": "markdown",
   "id": "ffbd8d67-faa6-4895-9b68-66a66ceaccf3",
   "metadata": {},
   "source": [
    "## Steady State"
   ]
  },
  {
   "cell_type": "code",
   "execution_count": 595,
   "id": "f54ce618-1ab5-4ab4-8b60-d738cf66cd90",
   "metadata": {},
   "outputs": [],
   "source": [
    "out = m.ss_solve(data)"
   ]
  },
  {
   "cell_type": "code",
   "execution_count": 596,
   "id": "fd0272aa-2d6f-4fa6-956c-75880cf938d6",
   "metadata": {},
   "outputs": [],
   "source": [
    "data1 = data.drop(columns=['T']).join(out)\n",
    "data1.to_csv(f'data_Ea{Ea1}_k0{k01}_V{V}_K2.csv')"
   ]
  }
 ],
 "metadata": {
  "kernelspec": {
   "display_name": "Python 3 (ipykernel)",
   "language": "python",
   "name": "python3"
  },
  "language_info": {
   "codemirror_mode": {
    "name": "ipython",
    "version": 3
   },
   "file_extension": ".py",
   "mimetype": "text/x-python",
   "name": "python",
   "nbconvert_exporter": "python",
   "pygments_lexer": "ipython3",
   "version": "3.8.10"
  }
 },
 "nbformat": 4,
 "nbformat_minor": 5
}
