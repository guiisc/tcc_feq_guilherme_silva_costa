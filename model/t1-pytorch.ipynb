{
 "cells": [
  {
   "cell_type": "code",
   "execution_count": 28,
   "id": "41dd070b-85c2-432b-a914-66ae067b5ae6",
   "metadata": {},
   "outputs": [
    {
     "name": "stdout",
     "output_type": "stream",
     "text": [
      "The autoreload extension is already loaded. To reload it, use:\n",
      "  %reload_ext autoreload\n"
     ]
    }
   ],
   "source": [
    "%load_ext autoreload\n",
    "%autoreload 2\n",
    "import pandas as pd\n",
    "import numpy as np\n",
    "import matplotlib.pyplot as plt\n",
    "from utils import *\n",
    "\n",
    "from sklearn.preprocessing import MinMaxScaler\n",
    "from sklearn.model_selection import train_test_split\n",
    "\n",
    "import torch\n",
    "from torch.autograd import Variable\n",
    "import torch.utils.data as Data"
   ]
  },
  {
   "cell_type": "code",
   "execution_count": 2,
   "id": "e1e611f2-d1ef-4863-bf0a-a97f3a1699d9",
   "metadata": {},
   "outputs": [],
   "source": [
    "data = pd.read_csv('../data/data_Ea83680_k026000000000.0_V0.2.csv', index_col=0)\n",
    "V = 0.2"
   ]
  },
  {
   "cell_type": "code",
   "execution_count": 3,
   "id": "3fe09316-58d2-461f-9161-fc734551b3fb",
   "metadata": {},
   "outputs": [
    {
     "name": "stdout",
     "output_type": "stream",
     "text": [
      "x train: (8000, 4), x test: (2000, 4)\n",
      "y train: (8000,), y test: (2000,)\n"
     ]
    }
   ],
   "source": [
    "x_cols = ['Cae', 'Cbe', 'T', 'Q']\n",
    "y_col = ['Cc']\n",
    "\n",
    "minmax = MinMaxScaler()\n",
    "in_data = minmax.fit_transform(data[x_cols].to_numpy())\n",
    "\n",
    "X_train, X_test, Y_train, Y_test = train_test_split(in_data, data[y_col].to_numpy(), test_size=.2, )\n",
    "Y_test = Y_test.reshape(Y_test.shape[0])\n",
    "Y_train = Y_train.reshape(Y_train.shape[0])\n",
    "\n",
    "print(f'x train: {X_train.shape}, x test: {X_test.shape}')\n",
    "print(f'y train: {Y_train.shape}, y test: {Y_test.shape}')"
   ]
  },
  {
   "cell_type": "markdown",
   "id": "e2687f63-902f-46e3-b8a2-7cd662d5415b",
   "metadata": {},
   "source": [
    "### Falta:\n",
    "- minmax scaler\n",
    "- train/test split"
   ]
  },
  {
   "cell_type": "code",
   "execution_count": 46,
   "id": "832ed3dc-3284-4b76-b0dc-7aba6bd1f525",
   "metadata": {},
   "outputs": [],
   "source": [
    "x = torch.tensor(data[x_cols].to_numpy())\n",
    "y = torch.tensor(data[y_col].to_numpy())"
   ]
  },
  {
   "cell_type": "code",
   "execution_count": null,
   "id": "4733a255-2fd2-4da6-8e2d-513a8bc4a758",
   "metadata": {},
   "outputs": [],
   "source": []
  },
  {
   "cell_type": "code",
   "execution_count": 53,
   "id": "6f71805c-329d-4b8e-b5b1-444bd32a67c4",
   "metadata": {
    "tags": []
   },
   "outputs": [],
   "source": [
    "net = torch.nn.Sequential(\n",
    "    torch.nn.Linear(in_data.shape[1], 1),\n",
    "    torch.nn.ReLU(),\n",
    "    torch.nn.Linear(1, 1)\n",
    ")\n",
    "optmizer = torch.optim.Adam(net.parameters())\n",
    "loss_func = torch.nn.MSELoss()\n",
    "\n",
    "BATCH_SIZE = 50\n",
    "EPOCH = 100\n",
    "torch_dataset = Data.TensorDataset(x, y)\n",
    "loader = Data.DataLoader(\n",
    "    dataset=torch_dataset,\n",
    "    batch_size=BATCH_SIZE,\n",
    "    shuffle=True, num_workers=2,\n",
    ")\n"
   ]
  },
  {
   "cell_type": "code",
   "execution_count": 87,
   "id": "c9d93b5c-b164-439f-a3f7-f339e4b38c9e",
   "metadata": {},
   "outputs": [],
   "source": [
    "for epoch in range(EPOCH):\n",
    "    print(epoch)\n",
    "    for step, (batch_x, batch_y) in enumerate(loader): # for each training step\n",
    "        b_x = Variable(batch_x).float()\n",
    "        b_y = Variable(batch_y).float()\n",
    "        prediction = net(b_x)\n",
    "        loss = loss_func(prediction, b_y)\n",
    "        optmizer.zero_grad()\n",
    "        loss.backward()\n",
    "        optmizer.step()"
   ]
  },
  {
   "cell_type": "code",
   "execution_count": 89,
   "id": "ef1a19d4-004e-4ac9-9438-c3cf24287bd4",
   "metadata": {},
   "outputs": [
    {
     "data": {
      "text/plain": [
       "tensor(11244.7021, grad_fn=<MseLossBackward>)"
      ]
     },
     "execution_count": 89,
     "metadata": {},
     "output_type": "execute_result"
    }
   ],
   "source": [
    "loss"
   ]
  }
 ],
 "metadata": {
  "kernelspec": {
   "display_name": "tcc_env",
   "language": "python",
   "name": "tcc_env"
  },
  "language_info": {
   "codemirror_mode": {
    "name": "ipython",
    "version": 3
   },
   "file_extension": ".py",
   "mimetype": "text/x-python",
   "name": "python",
   "nbconvert_exporter": "python",
   "pygments_lexer": "ipython3",
   "version": "3.8.10"
  }
 },
 "nbformat": 4,
 "nbformat_minor": 5
}
