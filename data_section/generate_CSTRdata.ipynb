{
 "cells": [
  {
   "cell_type": "markdown",
   "id": "13885f14-e2cd-4568-be41-d2dc3b09d6de",
   "metadata": {},
   "source": [
    "<H1>0. Import packages </H1>"
   ]
  },
  {
   "cell_type": "code",
   "execution_count": null,
   "id": "78734da9-eb52-4e02-9903-3540d0bd4465",
   "metadata": {},
   "outputs": [],
   "source": [
    "%load_ext autoreload\n",
    "%autoreload 2\n",
    "\n",
    "import module as m\n",
    "import pandas as pd\n",
    "import numpy as np\n",
    "import matplotlib.pyplot as plt\n",
    "R = 8.314 # J/K. mol"
   ]
  },
  {
   "cell_type": "markdown",
   "id": "7b29d87c-23f7-4256-8602-131ad065f445",
   "metadata": {},
   "source": [
    "<h2>1. Set range for variables </h2>\n",
    "\n",
    "- Components concentratios\n",
    "- Flow rate\n",
    "- Temperature"
   ]
  },
  {
   "cell_type": "code",
   "execution_count": null,
   "id": "441b0aef-dc9a-4aed-913b-6fc4c7513f95",
   "metadata": {},
   "outputs": [],
   "source": [
    "n = 50\n",
    "Ca = m.generate_values(1, 2, n)\n",
    "Cb = m.generate_values(1, 2, n)\n",
    "Cc = m.generate_values(0, .1, n)\n",
    "Cd = m.generate_values(0, .1, n)\n",
    "T = m.generate_values(150+273, 170+273, n)\n",
    "Q = m.generate_values(.1, .15, n)\n",
    "\n",
    "data = pd.DataFrame()\n",
    "data['Cae'] = Ca\n",
    "data['Cbe'] = Cb\n",
    "data['Cce'] = Cc\n",
    "data['Cde'] = Cd\n",
    "data['Te'] = T\n",
    "C = ['Cae', 'Cbe', 'Cce', 'Cde']"
   ]
  },
  {
   "cell_type": "markdown",
   "id": "beefe96f-a0c3-4f4f-a261-7969ff9efbc8",
   "metadata": {},
   "source": [
    "<h2>2. Set thermal properties</h2>\n",
    "\n",
    "- $C_p$\n",
    "- $\\Delta H_r$\n",
    "- $\\rho$"
   ]
  },
  {
   "cell_type": "code",
   "execution_count": null,
   "id": "0973deed-8b79-4009-bcc9-179c02ae6150",
   "metadata": {},
   "outputs": [],
   "source": [
    "Ea1 = 53e3 # J/mol\n",
    "k01 = 5e3 # L/mol.s\n",
    "\n",
    "Ea2 = Ea1/1.3 # J/mol\n",
    "k02 = 5e1 # L/mol.s\n",
    "\n",
    "V = 500 # L\n",
    "dHr = 200e3# J/mol\n",
    "rho = .9e3 # g/L\n",
    "Cp = 50 # J/g.K\n",
    "\n",
    "# C: mol/L\n",
    "# Q: L/s\n",
    "\n",
    "\n",
    "data['Ea1'] = Ea1\n",
    "data['k01'] = k01\n",
    "data['Ea2'] = Ea2\n",
    "data['k02'] = k02\n",
    "\n",
    "data['dHr'] = dHr\n",
    "data['rho'] = rho\n",
    "data['Cp'] = Cp\n",
    "\n",
    "data['t_spacial'] = V/Q"
   ]
  },
  {
   "cell_type": "markdown",
   "id": "ffbd8d67-faa6-4895-9b68-66a66ceaccf3",
   "metadata": {
    "tags": []
   },
   "source": [
    "<h2>3. Solve steady State </h2>\n",
    "\n",
    "- define wheter it is itothermal or not (adiabatic)\n",
    "- solve the system for steady state\n",
    "- save data"
   ]
  },
  {
   "cell_type": "code",
   "execution_count": null,
   "id": "fd0272aa-2d6f-4fa6-956c-75880cf938d6",
   "metadata": {},
   "outputs": [],
   "source": [
    "out = m.ss_solve(data, isothermal=True, )\n",
    "data1 = data.join(out)\n",
    "data1.to_csv(f'datas/n50_order2.csv')"
   ]
  },
  {
   "cell_type": "markdown",
   "id": "20045cab-e2b9-4d9d-b83b-038a93b0b01d",
   "metadata": {
    "tags": []
   },
   "source": [
    "<h2>4. (OPTIONAL) Reactor Startup </h2>\n",
    "\n",
    "- select one set from dataset\n",
    "- define a amount of time\n",
    "- define whether it is isothermal or not (adiabatic)\n",
    "- solve the system"
   ]
  },
  {
   "cell_type": "code",
   "execution_count": null,
   "id": "d85a0b9b-2515-4c91-953c-8e6e60c8cbc1",
   "metadata": {},
   "outputs": [],
   "source": [
    "row = 0\n",
    "ode_solved = m.ode_solve(data, n=10*n, t=2e3, row=row, isothermal=True)\n",
    "m.ode_plot(ode_solved)"
   ]
  },
  {
   "cell_type": "code",
   "execution_count": null,
   "id": "b7fadda6-a288-44da-bf1f-4ab810645a1f",
   "metadata": {},
   "outputs": [],
   "source": [
    "ss = m.steadyState(data.loc[row])\n",
    "ss.constant_rate\n",
    "print(f\"k1: {ss.constant_rate(data.loc[row, 'T'], data.loc[row, 'k01'], data.loc[row, 'Ea1'])*1e3:.2f} .10^-3\")\n",
    "print(f\"k2: {ss.constant_rate(data.loc[row, 'T'], data.loc[row, 'k02'], data.loc[row, 'Ea2'])*1e3:.2f} .10^-3\")\n",
    "print(f\"X: {m.X( ode_solved['Ca'].values[0], ode_solved['Ca'].values[-1] ):.2f}\")"
   ]
  }
 ],
 "metadata": {
  "kernelspec": {
   "display_name": "tcc_env",
   "language": "python",
   "name": "tcc_env"
  },
  "language_info": {
   "codemirror_mode": {
    "name": "ipython",
    "version": 3
   },
   "file_extension": ".py",
   "mimetype": "text/x-python",
   "name": "python",
   "nbconvert_exporter": "python",
   "pygments_lexer": "ipython3",
   "version": "3.8.10"
  }
 },
 "nbformat": 4,
 "nbformat_minor": 5
}
