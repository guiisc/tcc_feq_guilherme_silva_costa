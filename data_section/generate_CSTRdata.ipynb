{
 "cells": [
  {
   "cell_type": "code",
   "execution_count": null,
   "id": "78734da9-eb52-4e02-9903-3540d0bd4465",
   "metadata": {},
   "outputs": [],
   "source": [
    "import module as m\n",
    "import pandas as pd\n",
    "import numpy as np\n",
    "import matplotlib.pyplot as plt\n",
    "R = 8.314 # J/K. mol"
   ]
  },
  {
   "cell_type": "code",
   "execution_count": null,
   "id": "441b0aef-dc9a-4aed-913b-6fc4c7513f95",
   "metadata": {},
   "outputs": [],
   "source": [
    "n = 1000\n",
    "Ca = m.generate_values(1, 5, n)\n",
    "Cb = m.generate_values(1, 5, n)\n",
    "Cc = m.generate_values(0, .1, n)\n",
    "Cd = m.generate_values(0, .1, n)\n",
    "T = m.generate_values(50+273, 170+273, n)\n",
    "Q = m.generate_values(.1, .15, n)\n",
    "\n",
    "data = pd.DataFrame()\n",
    "data['Cae'] = Ca\n",
    "data['Cbe'] = Cb\n",
    "data['Cce'] = Cc\n",
    "data['Cde'] = Cd\n",
    "data['T'] = T\n",
    "C = ['Cae', 'Cbe', 'Cce', 'Cde']"
   ]
  },
  {
   "cell_type": "code",
   "execution_count": 13,
   "id": "0973deed-8b79-4009-bcc9-179c02ae6150",
   "metadata": {},
   "outputs": [],
   "source": [
    "Ea1 = 53e3 # J/mol\n",
    "k01 = 5e3 # L/mol.s\n",
    "\n",
    "Ea2 = Ea1/1.3 # J/mol\n",
    "k02 = 5e1 # L/mol.s\n",
    "\n",
    "V = 500 # L\n",
    "dHr = 100e3 # J/mol\n",
    "rho = 1.1e3 # g/L\n",
    "Cp = 700 # J/g.K\n",
    "\n",
    "# C: mol/L\n",
    "# Q: L/s\n",
    "\n",
    "\n",
    "data['Ea1'] = Ea1\n",
    "data['k01'] = k01\n",
    "data['Ea2'] = Ea2\n",
    "data['k02'] = k02\n",
    "\n",
    "data['dHr'] = dHr\n",
    "data['rho'] = rho\n",
    "data['Cp'] = Cp\n",
    "\n",
    "data['t_spacial'] = V/Q"
   ]
  },
  {
   "cell_type": "markdown",
   "id": "20045cab-e2b9-4d9d-b83b-038a93b0b01d",
   "metadata": {
    "tags": []
   },
   "source": [
    "## Reactor Startup"
   ]
  },
  {
   "cell_type": "code",
   "execution_count": 12,
   "id": "d85a0b9b-2515-4c91-953c-8e6e60c8cbc1",
   "metadata": {},
   "outputs": [
    {
     "ename": "KeyError",
     "evalue": "'t_espacial'",
     "output_type": "error",
     "traceback": [
      "\u001b[0;31m---------------------------------------------------------------------------\u001b[0m",
      "\u001b[0;31mKeyError\u001b[0m                                  Traceback (most recent call last)",
      "\u001b[0;32m~/tcc_env/lib/python3.8/site-packages/pandas/core/indexes/base.py\u001b[0m in \u001b[0;36mget_loc\u001b[0;34m(self, key, method, tolerance)\u001b[0m\n\u001b[1;32m   3360\u001b[0m             \u001b[0;32mtry\u001b[0m\u001b[0;34m:\u001b[0m\u001b[0;34m\u001b[0m\u001b[0;34m\u001b[0m\u001b[0m\n\u001b[0;32m-> 3361\u001b[0;31m                 \u001b[0;32mreturn\u001b[0m \u001b[0mself\u001b[0m\u001b[0;34m.\u001b[0m\u001b[0m_engine\u001b[0m\u001b[0;34m.\u001b[0m\u001b[0mget_loc\u001b[0m\u001b[0;34m(\u001b[0m\u001b[0mcasted_key\u001b[0m\u001b[0;34m)\u001b[0m\u001b[0;34m\u001b[0m\u001b[0;34m\u001b[0m\u001b[0m\n\u001b[0m\u001b[1;32m   3362\u001b[0m             \u001b[0;32mexcept\u001b[0m \u001b[0mKeyError\u001b[0m \u001b[0;32mas\u001b[0m \u001b[0merr\u001b[0m\u001b[0;34m:\u001b[0m\u001b[0;34m\u001b[0m\u001b[0;34m\u001b[0m\u001b[0m\n",
      "\u001b[0;32m~/tcc_env/lib/python3.8/site-packages/pandas/_libs/index.pyx\u001b[0m in \u001b[0;36mpandas._libs.index.IndexEngine.get_loc\u001b[0;34m()\u001b[0m\n",
      "\u001b[0;32m~/tcc_env/lib/python3.8/site-packages/pandas/_libs/index.pyx\u001b[0m in \u001b[0;36mpandas._libs.index.IndexEngine.get_loc\u001b[0;34m()\u001b[0m\n",
      "\u001b[0;32mpandas/_libs/hashtable_class_helper.pxi\u001b[0m in \u001b[0;36mpandas._libs.hashtable.PyObjectHashTable.get_item\u001b[0;34m()\u001b[0m\n",
      "\u001b[0;32mpandas/_libs/hashtable_class_helper.pxi\u001b[0m in \u001b[0;36mpandas._libs.hashtable.PyObjectHashTable.get_item\u001b[0;34m()\u001b[0m\n",
      "\u001b[0;31mKeyError\u001b[0m: 't_espacial'",
      "\nThe above exception was the direct cause of the following exception:\n",
      "\u001b[0;31mKeyError\u001b[0m                                  Traceback (most recent call last)",
      "\u001b[0;32m/tmp/ipykernel_230/1582133626.py\u001b[0m in \u001b[0;36m<module>\u001b[0;34m\u001b[0m\n\u001b[1;32m      1\u001b[0m \u001b[0mrow\u001b[0m \u001b[0;34m=\u001b[0m \u001b[0;36m6\u001b[0m\u001b[0;34m\u001b[0m\u001b[0;34m\u001b[0m\u001b[0m\n\u001b[0;32m----> 2\u001b[0;31m \u001b[0mode_solved\u001b[0m \u001b[0;34m=\u001b[0m \u001b[0mm\u001b[0m\u001b[0;34m.\u001b[0m\u001b[0mode_solve\u001b[0m\u001b[0;34m(\u001b[0m\u001b[0mdata\u001b[0m\u001b[0;34m,\u001b[0m \u001b[0mn\u001b[0m\u001b[0;34m=\u001b[0m\u001b[0;36m100\u001b[0m\u001b[0;34m*\u001b[0m\u001b[0mn\u001b[0m\u001b[0;34m,\u001b[0m \u001b[0mt\u001b[0m\u001b[0;34m=\u001b[0m\u001b[0;36m15000\u001b[0m\u001b[0;34m,\u001b[0m \u001b[0mrow\u001b[0m\u001b[0;34m=\u001b[0m\u001b[0mrow\u001b[0m\u001b[0;34m,\u001b[0m \u001b[0misothermal\u001b[0m\u001b[0;34m=\u001b[0m\u001b[0;32mFalse\u001b[0m\u001b[0;34m)\u001b[0m\u001b[0;34m\u001b[0m\u001b[0;34m\u001b[0m\u001b[0m\n\u001b[0m\u001b[1;32m      3\u001b[0m \u001b[0mm\u001b[0m\u001b[0;34m.\u001b[0m\u001b[0mode_plot\u001b[0m\u001b[0;34m(\u001b[0m\u001b[0mode_solved\u001b[0m\u001b[0;34m)\u001b[0m\u001b[0;34m\u001b[0m\u001b[0;34m\u001b[0m\u001b[0m\n",
      "\u001b[0;32m~/TCC_code/data/module.py\u001b[0m in \u001b[0;36mode_solve\u001b[0;34m(data, n, t, row, isothermal)\u001b[0m\n",
      "\u001b[0;32m~/TCC_code/data/module.py\u001b[0m in \u001b[0;36m__init__\u001b[0;34m(self, data, isothermal)\u001b[0m\n",
      "\u001b[0;32m~/tcc_env/lib/python3.8/site-packages/pandas/core/series.py\u001b[0m in \u001b[0;36m__getitem__\u001b[0;34m(self, key)\u001b[0m\n\u001b[1;32m    940\u001b[0m \u001b[0;34m\u001b[0m\u001b[0m\n\u001b[1;32m    941\u001b[0m         \u001b[0;32melif\u001b[0m \u001b[0mkey_is_scalar\u001b[0m\u001b[0;34m:\u001b[0m\u001b[0;34m\u001b[0m\u001b[0;34m\u001b[0m\u001b[0m\n\u001b[0;32m--> 942\u001b[0;31m             \u001b[0;32mreturn\u001b[0m \u001b[0mself\u001b[0m\u001b[0;34m.\u001b[0m\u001b[0m_get_value\u001b[0m\u001b[0;34m(\u001b[0m\u001b[0mkey\u001b[0m\u001b[0;34m)\u001b[0m\u001b[0;34m\u001b[0m\u001b[0;34m\u001b[0m\u001b[0m\n\u001b[0m\u001b[1;32m    943\u001b[0m \u001b[0;34m\u001b[0m\u001b[0m\n\u001b[1;32m    944\u001b[0m         \u001b[0;32mif\u001b[0m \u001b[0mis_hashable\u001b[0m\u001b[0;34m(\u001b[0m\u001b[0mkey\u001b[0m\u001b[0;34m)\u001b[0m\u001b[0;34m:\u001b[0m\u001b[0;34m\u001b[0m\u001b[0;34m\u001b[0m\u001b[0m\n",
      "\u001b[0;32m~/tcc_env/lib/python3.8/site-packages/pandas/core/series.py\u001b[0m in \u001b[0;36m_get_value\u001b[0;34m(self, label, takeable)\u001b[0m\n\u001b[1;32m   1049\u001b[0m \u001b[0;34m\u001b[0m\u001b[0m\n\u001b[1;32m   1050\u001b[0m         \u001b[0;31m# Similar to Index.get_value, but we do not fall back to positional\u001b[0m\u001b[0;34m\u001b[0m\u001b[0;34m\u001b[0m\u001b[0;34m\u001b[0m\u001b[0m\n\u001b[0;32m-> 1051\u001b[0;31m         \u001b[0mloc\u001b[0m \u001b[0;34m=\u001b[0m \u001b[0mself\u001b[0m\u001b[0;34m.\u001b[0m\u001b[0mindex\u001b[0m\u001b[0;34m.\u001b[0m\u001b[0mget_loc\u001b[0m\u001b[0;34m(\u001b[0m\u001b[0mlabel\u001b[0m\u001b[0;34m)\u001b[0m\u001b[0;34m\u001b[0m\u001b[0;34m\u001b[0m\u001b[0m\n\u001b[0m\u001b[1;32m   1052\u001b[0m         \u001b[0;32mreturn\u001b[0m \u001b[0mself\u001b[0m\u001b[0;34m.\u001b[0m\u001b[0mindex\u001b[0m\u001b[0;34m.\u001b[0m\u001b[0m_get_values_for_loc\u001b[0m\u001b[0;34m(\u001b[0m\u001b[0mself\u001b[0m\u001b[0;34m,\u001b[0m \u001b[0mloc\u001b[0m\u001b[0;34m,\u001b[0m \u001b[0mlabel\u001b[0m\u001b[0;34m)\u001b[0m\u001b[0;34m\u001b[0m\u001b[0;34m\u001b[0m\u001b[0m\n\u001b[1;32m   1053\u001b[0m \u001b[0;34m\u001b[0m\u001b[0m\n",
      "\u001b[0;32m~/tcc_env/lib/python3.8/site-packages/pandas/core/indexes/base.py\u001b[0m in \u001b[0;36mget_loc\u001b[0;34m(self, key, method, tolerance)\u001b[0m\n\u001b[1;32m   3361\u001b[0m                 \u001b[0;32mreturn\u001b[0m \u001b[0mself\u001b[0m\u001b[0;34m.\u001b[0m\u001b[0m_engine\u001b[0m\u001b[0;34m.\u001b[0m\u001b[0mget_loc\u001b[0m\u001b[0;34m(\u001b[0m\u001b[0mcasted_key\u001b[0m\u001b[0;34m)\u001b[0m\u001b[0;34m\u001b[0m\u001b[0;34m\u001b[0m\u001b[0m\n\u001b[1;32m   3362\u001b[0m             \u001b[0;32mexcept\u001b[0m \u001b[0mKeyError\u001b[0m \u001b[0;32mas\u001b[0m \u001b[0merr\u001b[0m\u001b[0;34m:\u001b[0m\u001b[0;34m\u001b[0m\u001b[0;34m\u001b[0m\u001b[0m\n\u001b[0;32m-> 3363\u001b[0;31m                 \u001b[0;32mraise\u001b[0m \u001b[0mKeyError\u001b[0m\u001b[0;34m(\u001b[0m\u001b[0mkey\u001b[0m\u001b[0;34m)\u001b[0m \u001b[0;32mfrom\u001b[0m \u001b[0merr\u001b[0m\u001b[0;34m\u001b[0m\u001b[0;34m\u001b[0m\u001b[0m\n\u001b[0m\u001b[1;32m   3364\u001b[0m \u001b[0;34m\u001b[0m\u001b[0m\n\u001b[1;32m   3365\u001b[0m         \u001b[0;32mif\u001b[0m \u001b[0mis_scalar\u001b[0m\u001b[0;34m(\u001b[0m\u001b[0mkey\u001b[0m\u001b[0;34m)\u001b[0m \u001b[0;32mand\u001b[0m \u001b[0misna\u001b[0m\u001b[0;34m(\u001b[0m\u001b[0mkey\u001b[0m\u001b[0;34m)\u001b[0m \u001b[0;32mand\u001b[0m \u001b[0;32mnot\u001b[0m \u001b[0mself\u001b[0m\u001b[0;34m.\u001b[0m\u001b[0mhasnans\u001b[0m\u001b[0;34m:\u001b[0m\u001b[0;34m\u001b[0m\u001b[0;34m\u001b[0m\u001b[0m\n",
      "\u001b[0;31mKeyError\u001b[0m: 't_espacial'"
     ]
    }
   ],
   "source": [
    "row = 6\n",
    "ode_solved = m.ode_solve(data, n=100*n, t=15000, row=row, isothermal=False)\n",
    "m.ode_plot(ode_solved)"
   ]
  },
  {
   "cell_type": "code",
   "execution_count": 594,
   "id": "b7fadda6-a288-44da-bf1f-4ab810645a1f",
   "metadata": {},
   "outputs": [
    {
     "name": "stdout",
     "output_type": "stream",
     "text": [
      "k1: 0.02 .10^-3\n",
      "k2: 0.02 .10^-3\n",
      "X: 0.19\n"
     ]
    }
   ],
   "source": [
    "print(f\"k1: {m.cte_taxa(data.loc[row, 'T'], data.loc[row, 'k01'], data.loc[row, 'Ea1'])*1e3:.2f} .10^-3\")\n",
    "print(f\"k2: {m.cte_taxa(data.loc[row, 'T'], data.loc[row, 'k02'], data.loc[row, 'Ea2'])*1e3:.2f} .10^-3\")\n",
    "print(f\"X: {m.X( ode_solved['Ca'].values[0], ode_solved['Ca'].values[-1] ):.2f}\")"
   ]
  },
  {
   "cell_type": "markdown",
   "id": "ffbd8d67-faa6-4895-9b68-66a66ceaccf3",
   "metadata": {},
   "source": [
    "## Steady State"
   ]
  },
  {
   "cell_type": "code",
   "execution_count": null,
   "id": "c68b9452-4bbf-4ce7-a04c-c6a0c3533322",
   "metadata": {},
   "outputs": [],
   "source": [
    "m.steadyState()"
   ]
  },
  {
   "cell_type": "code",
   "execution_count": 6,
   "id": "f54ce618-1ab5-4ab4-8b60-d738cf66cd90",
   "metadata": {},
   "outputs": [],
   "source": [
    "out = m.ss_solve(data)"
   ]
  },
  {
   "cell_type": "code",
   "execution_count": 18,
   "id": "fd0272aa-2d6f-4fa6-956c-75880cf938d6",
   "metadata": {},
   "outputs": [],
   "source": [
    "data1 = data.join(out.drop(columns=['T']))\n",
    "data1.to_csv(f'datas/data_n1000_ordem2.csv')"
   ]
  }
 ],
 "metadata": {
  "kernelspec": {
   "display_name": "tcc_env",
   "language": "python",
   "name": "tcc_env"
  },
  "language_info": {
   "codemirror_mode": {
    "name": "ipython",
    "version": 3
   },
   "file_extension": ".py",
   "mimetype": "text/x-python",
   "name": "python",
   "nbconvert_exporter": "python",
   "pygments_lexer": "ipython3",
   "version": "3.8.10"
  }
 },
 "nbformat": 4,
 "nbformat_minor": 5
}
